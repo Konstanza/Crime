{
 "cells": [
  {
   "cell_type": "markdown",
   "metadata": {},
   "source": [
    "## Descargar datos\n",
    "https://www.kaggle.com/mchirico/philadelphiacrimedata"
   ]
  },
  {
   "cell_type": "code",
   "execution_count": 4,
   "metadata": {},
   "outputs": [],
   "source": [
    "%matplotlib inline\n",
    "\n",
    "import pandas as pd\n",
    "import seaborn as sns\n",
    "import matplotlib.pyplot as plt"
   ]
  },
  {
   "cell_type": "code",
   "execution_count": 5,
   "metadata": {},
   "outputs": [],
   "source": [
    "data = pd.read_csv('crime.csv')"
   ]
  },
  {
   "cell_type": "code",
   "execution_count": 3,
   "metadata": {},
   "outputs": [
    {
     "data": {
      "text/html": [
       "<div>\n",
       "<style scoped>\n",
       "    .dataframe tbody tr th:only-of-type {\n",
       "        vertical-align: middle;\n",
       "    }\n",
       "\n",
       "    .dataframe tbody tr th {\n",
       "        vertical-align: top;\n",
       "    }\n",
       "\n",
       "    .dataframe thead th {\n",
       "        text-align: right;\n",
       "    }\n",
       "</style>\n",
       "<table border=\"1\" class=\"dataframe\">\n",
       "  <thead>\n",
       "    <tr style=\"text-align: right;\">\n",
       "      <th></th>\n",
       "      <th>Dc_Dist</th>\n",
       "      <th>Psa</th>\n",
       "      <th>Dispatch_Date_Time</th>\n",
       "      <th>Dispatch_Date</th>\n",
       "      <th>Dispatch_Time</th>\n",
       "      <th>Hour</th>\n",
       "      <th>Dc_Key</th>\n",
       "      <th>Location_Block</th>\n",
       "      <th>UCR_General</th>\n",
       "      <th>Text_General_Code</th>\n",
       "      <th>Police_Districts</th>\n",
       "      <th>Month</th>\n",
       "      <th>Lon</th>\n",
       "      <th>Lat</th>\n",
       "    </tr>\n",
       "  </thead>\n",
       "  <tbody>\n",
       "    <tr>\n",
       "      <th>0</th>\n",
       "      <td>18</td>\n",
       "      <td>3</td>\n",
       "      <td>2009-10-02 14:24:00</td>\n",
       "      <td>2009-10-02</td>\n",
       "      <td>14:24:00</td>\n",
       "      <td>14</td>\n",
       "      <td>200918067518</td>\n",
       "      <td>S 38TH ST  / MARKETUT ST</td>\n",
       "      <td>800.0</td>\n",
       "      <td>Other Assaults</td>\n",
       "      <td>NaN</td>\n",
       "      <td>2009-10</td>\n",
       "      <td>NaN</td>\n",
       "      <td>NaN</td>\n",
       "    </tr>\n",
       "    <tr>\n",
       "      <th>1</th>\n",
       "      <td>14</td>\n",
       "      <td>1</td>\n",
       "      <td>2009-05-10 00:55:00</td>\n",
       "      <td>2009-05-10</td>\n",
       "      <td>00:55:00</td>\n",
       "      <td>0</td>\n",
       "      <td>200914033994</td>\n",
       "      <td>8500 BLOCK MITCH</td>\n",
       "      <td>2600.0</td>\n",
       "      <td>All Other Offenses</td>\n",
       "      <td>NaN</td>\n",
       "      <td>2009-05</td>\n",
       "      <td>NaN</td>\n",
       "      <td>NaN</td>\n",
       "    </tr>\n",
       "    <tr>\n",
       "      <th>2</th>\n",
       "      <td>25</td>\n",
       "      <td>J</td>\n",
       "      <td>2009-08-07 15:40:00</td>\n",
       "      <td>2009-08-07</td>\n",
       "      <td>15:40:00</td>\n",
       "      <td>15</td>\n",
       "      <td>200925083199</td>\n",
       "      <td>6TH CAMBRIA</td>\n",
       "      <td>800.0</td>\n",
       "      <td>Other Assaults</td>\n",
       "      <td>NaN</td>\n",
       "      <td>2009-08</td>\n",
       "      <td>NaN</td>\n",
       "      <td>NaN</td>\n",
       "    </tr>\n",
       "    <tr>\n",
       "      <th>3</th>\n",
       "      <td>35</td>\n",
       "      <td>D</td>\n",
       "      <td>2009-07-19 01:09:00</td>\n",
       "      <td>2009-07-19</td>\n",
       "      <td>01:09:00</td>\n",
       "      <td>1</td>\n",
       "      <td>200935061008</td>\n",
       "      <td>5500 BLOCK N 5TH ST</td>\n",
       "      <td>1500.0</td>\n",
       "      <td>Weapon Violations</td>\n",
       "      <td>20.0</td>\n",
       "      <td>2009-07</td>\n",
       "      <td>-75.130477</td>\n",
       "      <td>40.036389</td>\n",
       "    </tr>\n",
       "    <tr>\n",
       "      <th>4</th>\n",
       "      <td>9</td>\n",
       "      <td>R</td>\n",
       "      <td>2009-06-25 00:14:00</td>\n",
       "      <td>2009-06-25</td>\n",
       "      <td>00:14:00</td>\n",
       "      <td>0</td>\n",
       "      <td>200909030511</td>\n",
       "      <td>1800 BLOCK WYLIE ST</td>\n",
       "      <td>2600.0</td>\n",
       "      <td>All Other Offenses</td>\n",
       "      <td>8.0</td>\n",
       "      <td>2009-06</td>\n",
       "      <td>-75.166350</td>\n",
       "      <td>39.969532</td>\n",
       "    </tr>\n",
       "  </tbody>\n",
       "</table>\n",
       "</div>"
      ],
      "text/plain": [
       "   Dc_Dist Psa   Dispatch_Date_Time Dispatch_Date Dispatch_Time  Hour  \\\n",
       "0       18   3  2009-10-02 14:24:00    2009-10-02      14:24:00    14   \n",
       "1       14   1  2009-05-10 00:55:00    2009-05-10      00:55:00     0   \n",
       "2       25   J  2009-08-07 15:40:00    2009-08-07      15:40:00    15   \n",
       "3       35   D  2009-07-19 01:09:00    2009-07-19      01:09:00     1   \n",
       "4        9   R  2009-06-25 00:14:00    2009-06-25      00:14:00     0   \n",
       "\n",
       "         Dc_Key            Location_Block  UCR_General   Text_General_Code  \\\n",
       "0  200918067518  S 38TH ST  / MARKETUT ST        800.0      Other Assaults   \n",
       "1  200914033994          8500 BLOCK MITCH       2600.0  All Other Offenses   \n",
       "2  200925083199               6TH CAMBRIA        800.0      Other Assaults   \n",
       "3  200935061008       5500 BLOCK N 5TH ST       1500.0   Weapon Violations   \n",
       "4  200909030511       1800 BLOCK WYLIE ST       2600.0  All Other Offenses   \n",
       "\n",
       "   Police_Districts    Month        Lon        Lat  \n",
       "0               NaN  2009-10        NaN        NaN  \n",
       "1               NaN  2009-05        NaN        NaN  \n",
       "2               NaN  2009-08        NaN        NaN  \n",
       "3              20.0  2009-07 -75.130477  40.036389  \n",
       "4               8.0  2009-06 -75.166350  39.969532  "
      ]
     },
     "execution_count": 3,
     "metadata": {},
     "output_type": "execute_result"
    }
   ],
   "source": [
    "data.head()"
   ]
  },
  {
   "cell_type": "markdown",
   "metadata": {},
   "source": [
    "## ¿Cuáles crimenes se cometieron?"
   ]
  },
  {
   "cell_type": "code",
   "execution_count": 4,
   "metadata": {},
   "outputs": [
    {
     "data": {
      "text/plain": [
       "All Other Offenses                         437581\n",
       "Other Assaults                             277332\n",
       "Thefts                                     257923\n",
       "Vandalism/Criminal Mischief                200345\n",
       "Theft from Vehicle                         171135\n",
       "Narcotic / Drug Law Violations             137448\n",
       "Fraud                                      114416\n",
       "Recovered Stolen Motor Vehicle              95282\n",
       "Burglary Residential                        94143\n",
       "Aggravated Assault No Firearm               68989\n",
       "DRIVING UNDER THE INFLUENCE                 53721\n",
       "Robbery No Firearm                          51919\n",
       "Motor Vehicle Theft                         46517\n",
       "Robbery Firearm                             40577\n",
       "Disorderly Conduct                          40137\n",
       "Aggravated Assault Firearm                  27934\n",
       "Burglary Non-Residential                    23276\n",
       "Weapon Violations                           19092\n",
       "Other Sex Offenses (Not Commercialized)     15304\n",
       "Prostitution and Commercialized Vice        12854\n",
       "Rape                                        11852\n",
       "Vagrancy/Loitering                           6776\n",
       "Arson                                        5684\n",
       "Liquor Law Violations                        5439\n",
       "Forgery and Counterfeiting                   4843\n",
       "Embezzlement                                 4807\n",
       "Public Drunkenness                           4619\n",
       "Homicide - Criminal                          3442\n",
       "Offenses Against Family and Children         1794\n",
       "Gambling Violations                           921\n",
       "Receiving Stolen Property                     786\n",
       "Homicide - Justifiable                         42\n",
       "Homicide - Gross Negligence                    12\n",
       "Name: Text_General_Code, dtype: int64"
      ]
     },
     "execution_count": 4,
     "metadata": {},
     "output_type": "execute_result"
    }
   ],
   "source": [
    "crimes = data['Text_General_Code'].value_counts()\n",
    "crimes"
   ]
  },
  {
   "cell_type": "markdown",
   "metadata": {},
   "source": [
    "## ¿Cuál fue el crimen más y menos cometido?"
   ]
  },
  {
   "cell_type": "code",
   "execution_count": 5,
   "metadata": {},
   "outputs": [
    {
     "name": "stdout",
     "output_type": "stream",
     "text": [
      "Más:  All Other Offenses\n",
      "Menos:  Homicide - Gross Negligence\n"
     ]
    }
   ],
   "source": [
    "max_crime = crimes.index[0]\n",
    "min_crime = crimes.index[len(crimes)-1]\n",
    "print('Más: ', max_crime)\n",
    "print('Menos: ', min_crime)"
   ]
  },
  {
   "cell_type": "markdown",
   "metadata": {},
   "source": [
    "## ¿En qué lugares ocurrió el crimen menos cometido? "
   ]
  },
  {
   "cell_type": "code",
   "execution_count": 6,
   "metadata": {},
   "outputs": [
    {
     "data": {
      "text/plain": [
       "['2200 BLOCK RHAWN ST',\n",
       " '6600 BLOCK N 8TH ST',\n",
       " '2100 BLOCK MARKET ST',\n",
       " 'N BROAD ST  / W GLENWOOD AV',\n",
       " '500 BLOCK SENTNER ST',\n",
       " '2700 BLOCK RHAWN ST',\n",
       " '0 BLOCK E WALNUT LN']"
      ]
     },
     "execution_count": 6,
     "metadata": {},
     "output_type": "execute_result"
    }
   ],
   "source": [
    "min_crime_locations = data[data['Text_General_Code'] == min_crime]['Location_Block'].unique()\n",
    "list(min_crime_locations)"
   ]
  },
  {
   "cell_type": "markdown",
   "metadata": {},
   "source": [
    "## ¿A qué horas ocurrieron los crimenes?"
   ]
  },
  {
   "cell_type": "code",
   "execution_count": 7,
   "metadata": {},
   "outputs": [
    {
     "data": {
      "image/png": "[encoded data removed]",
      "text/plain": [
       "<matplotlib.figure.Figure at 0x7f7bf00b2898>"
      ]
     },
     "metadata": {},
     "output_type": "display_data"
    }
   ],
   "source": [
    "sns.set()\n",
    "sns.countplot(data['Hour'], color='green')\n",
    "plt.title(\"Crimes per hour\")\n",
    "plt.xlabel(\"Hour\")\n",
    "plt.ylabel(\"Incident count\")\n",
    "plt.show()"
   ]
  },
  {
   "cell_type": "markdown",
   "metadata": {},
   "source": [
    "## ¿Cuáles son las horas y distritos con más crimenes?"
   ]
  },
  {
   "cell_type": "markdown",
   "metadata": {},
   "source": [
    "### Eliminar las columnas innecesarias"
   ]
  },
  {
   "cell_type": "code",
   "execution_count": 6,
   "metadata": {},
   "outputs": [],
   "source": [
    "columns = set(data)\n",
    "columns = columns - set(['Hour', 'Dc_Dist'])\n",
    "\n",
    "hour_district = data.drop(columns, axis=1)"
   ]
  },
  {
   "cell_type": "markdown",
   "metadata": {},
   "source": [
    "### Contar los crimenes por hora y distrito"
   ]
  },
  {
   "cell_type": "code",
   "execution_count": 9,
   "metadata": {},
   "outputs": [
    {
     "data": {
      "text/html": [
       "<div>\n",
       "<style scoped>\n",
       "    .dataframe tbody tr th:only-of-type {\n",
       "        vertical-align: middle;\n",
       "    }\n",
       "\n",
       "    .dataframe tbody tr th {\n",
       "        vertical-align: top;\n",
       "    }\n",
       "\n",
       "    .dataframe thead th {\n",
       "        text-align: right;\n",
       "    }\n",
       "</style>\n",
       "<table border=\"1\" class=\"dataframe\">\n",
       "  <thead>\n",
       "    <tr style=\"text-align: right;\">\n",
       "      <th></th>\n",
       "      <th>Dc_Dist</th>\n",
       "      <th>Hour</th>\n",
       "      <th>Occurrences</th>\n",
       "    </tr>\n",
       "  </thead>\n",
       "  <tbody>\n",
       "    <tr>\n",
       "      <th>0</th>\n",
       "      <td>1</td>\n",
       "      <td>0</td>\n",
       "      <td>3060</td>\n",
       "    </tr>\n",
       "    <tr>\n",
       "      <th>1</th>\n",
       "      <td>1</td>\n",
       "      <td>1</td>\n",
       "      <td>2186</td>\n",
       "    </tr>\n",
       "    <tr>\n",
       "      <th>2</th>\n",
       "      <td>1</td>\n",
       "      <td>2</td>\n",
       "      <td>1539</td>\n",
       "    </tr>\n",
       "    <tr>\n",
       "      <th>3</th>\n",
       "      <td>1</td>\n",
       "      <td>3</td>\n",
       "      <td>1176</td>\n",
       "    </tr>\n",
       "    <tr>\n",
       "      <th>4</th>\n",
       "      <td>1</td>\n",
       "      <td>4</td>\n",
       "      <td>795</td>\n",
       "    </tr>\n",
       "  </tbody>\n",
       "</table>\n",
       "</div>"
      ],
      "text/plain": [
       "   Dc_Dist  Hour  Occurrences\n",
       "0        1     0         3060\n",
       "1        1     1         2186\n",
       "2        1     2         1539\n",
       "3        1     3         1176\n",
       "4        1     4          795"
      ]
     },
     "execution_count": 9,
     "metadata": {},
     "output_type": "execute_result"
    }
   ],
   "source": [
    "hour_district['Occurrences'] = 1\n",
    "hour_district = hour_district.groupby([\"Dc_Dist\", \"Hour\"]).size().reset_index(name=\"Occurrences\")\n",
    "hour_district.head()"
   ]
  },
  {
   "cell_type": "markdown",
   "metadata": {},
   "source": [
    "### Graficar"
   ]
  },
  {
   "cell_type": "code",
   "execution_count": 10,
   "metadata": {},
   "outputs": [],
   "source": [
    "hour_district = hour_district.pivot(\"Dc_Dist\", \"Hour\", \"Occurrences\")\n",
    "hour_district.fillna(0, inplace=True)"
   ]
  },
  {
   "cell_type": "code",
   "execution_count": 11,
   "metadata": {
    "scrolled": true
   },
   "outputs": [
    {
     "data": {
      "image/png": "[encoded data removed]",
      "text/plain": [
       "<matplotlib.figure.Figure at 0x7f7bf0062d30>"
      ]
     },
     "metadata": {},
     "output_type": "display_data"
    }
   ],
   "source": [
    "fig, ax = plt.subplots(figsize=(10,10))\n",
    "ax = plt.title(\"Crimes per hour and district\")\n",
    "ax = sns.heatmap(hour_district)\n",
    "plt.show()"
   ]
  },
  {
   "cell_type": "markdown",
   "metadata": {},
   "source": [
    "## ¿Cuándo y dónde ocurrió un crimen específico?"
   ]
  },
  {
   "cell_type": "code",
   "execution_count": 26,
   "metadata": {},
   "outputs": [
    {
     "name": "stdout",
     "output_type": "stream",
     "text": [
      "Crimen: Rape\n"
     ]
    }
   ],
   "source": [
    "crime = input(\"Crimen: \")"
   ]
  },
  {
   "cell_type": "code",
   "execution_count": 27,
   "metadata": {},
   "outputs": [],
   "source": [
    "columns = set(data)\n",
    "columns = columns - set(['Hour', 'Dc_Dist'])\n",
    "\n",
    "hour_district = data[data['Text_General_Code'] == crime]\n",
    "hour_district = hour_district.drop(columns, axis=1)"
   ]
  },
  {
   "cell_type": "code",
   "execution_count": 28,
   "metadata": {},
   "outputs": [
    {
     "data": {
      "text/html": [
       "<div>\n",
       "<style scoped>\n",
       "    .dataframe tbody tr th:only-of-type {\n",
       "        vertical-align: middle;\n",
       "    }\n",
       "\n",
       "    .dataframe tbody tr th {\n",
       "        vertical-align: top;\n",
       "    }\n",
       "\n",
       "    .dataframe thead th {\n",
       "        text-align: right;\n",
       "    }\n",
       "</style>\n",
       "<table border=\"1\" class=\"dataframe\">\n",
       "  <thead>\n",
       "    <tr style=\"text-align: right;\">\n",
       "      <th></th>\n",
       "      <th>Dc_Dist</th>\n",
       "      <th>Hour</th>\n",
       "      <th>Occurrences</th>\n",
       "    </tr>\n",
       "  </thead>\n",
       "  <tbody>\n",
       "    <tr>\n",
       "      <th>0</th>\n",
       "      <td>1</td>\n",
       "      <td>0</td>\n",
       "      <td>4</td>\n",
       "    </tr>\n",
       "    <tr>\n",
       "      <th>1</th>\n",
       "      <td>1</td>\n",
       "      <td>1</td>\n",
       "      <td>4</td>\n",
       "    </tr>\n",
       "    <tr>\n",
       "      <th>2</th>\n",
       "      <td>1</td>\n",
       "      <td>2</td>\n",
       "      <td>4</td>\n",
       "    </tr>\n",
       "    <tr>\n",
       "      <th>3</th>\n",
       "      <td>1</td>\n",
       "      <td>3</td>\n",
       "      <td>6</td>\n",
       "    </tr>\n",
       "    <tr>\n",
       "      <th>4</th>\n",
       "      <td>1</td>\n",
       "      <td>4</td>\n",
       "      <td>7</td>\n",
       "    </tr>\n",
       "  </tbody>\n",
       "</table>\n",
       "</div>"
      ],
      "text/plain": [
       "   Dc_Dist  Hour  Occurrences\n",
       "0        1     0            4\n",
       "1        1     1            4\n",
       "2        1     2            4\n",
       "3        1     3            6\n",
       "4        1     4            7"
      ]
     },
     "execution_count": 28,
     "metadata": {},
     "output_type": "execute_result"
    }
   ],
   "source": [
    "hour_district['Occurrences'] = 1\n",
    "hour_district = hour_district.groupby([\"Dc_Dist\", \"Hour\"]).size().reset_index(name=\"Occurrences\")\n",
    "hour_district.head()"
   ]
  },
  {
   "cell_type": "code",
   "execution_count": 29,
   "metadata": {},
   "outputs": [],
   "source": [
    "hour_district = hour_district.pivot(\"Dc_Dist\", \"Hour\", \"Occurrences\")\n",
    "hour_district.fillna(0, inplace=True)"
   ]
  },
  {
   "cell_type": "code",
   "execution_count": 30,
   "metadata": {},
   "outputs": [
    {
     "data": {
      "image/png": "[encoded data removed]",
      "text/plain": [
       "<matplotlib.figure.Figure at 0x7f96b5f39eb8>"
      ]
     },
     "metadata": {},
     "output_type": "display_data"
    }
   ],
   "source": [
    "fig, ax = plt.subplots(figsize=(10,10))\n",
    "ax = plt.title(\"{} per hour and district\".format(crime))\n",
    "ax = sns.heatmap(hour_district)\n",
    "plt.show()"
   ]
  },
  {
   "cell_type": "markdown",
   "metadata": {},
   "source": [
    "## ¿Cuál es la probabilidad de que un crimen ocurrido en cualquier lugar sea un homicidio?"
   ]
  },
  {
   "cell_type": "markdown",
   "metadata": {},
   "source": [
    "### Transformar los crimenes de homicidio en un solo tipo"
   ]
  },
  {
   "cell_type": "code",
   "execution_count": 12,
   "metadata": {},
   "outputs": [],
   "source": [
    "homicide_types = ['Homicide - Criminal', 'Homicide - Justifiable', 'Homicide - Gross Negligence']\n",
    "data.loc[data['Text_General_Code'].isin(homicide_types), 'Text_General_Code'] = 'Homicide'"
   ]
  },
  {
   "cell_type": "code",
   "execution_count": 13,
   "metadata": {},
   "outputs": [],
   "source": [
    "import numpy as np\n",
    "from scipy.stats import beta as beta_distribution"
   ]
  },
  {
   "cell_type": "markdown",
   "metadata": {},
   "source": [
    "### Hallar probabilidades "
   ]
  },
  {
   "cell_type": "code",
   "execution_count": 14,
   "metadata": {},
   "outputs": [],
   "source": [
    "num_crimes = data.shape[0]\n",
    "num_crime_occurrences = data['Text_General_Code'].value_counts()['Homicide']\n",
    "\n",
    "alpha = 1 + num_crime_occurrences\n",
    "beta = 1 + (num_crimes - num_crime_occurrences)\n",
    "\n",
    "x_values = np.linspace(0, 1, 1002)[1:-1]\n",
    "pdf_y_values = beta_distribution(alpha, beta).pdf(x_values)\n",
    "cdf_y_values = np.cumsum(pdf_y_values) / np.sum(pdf_y_values)"
   ]
  },
  {
   "cell_type": "markdown",
   "metadata": {},
   "source": [
    "### Graficar probabilidades "
   ]
  },
  {
   "cell_type": "code",
   "execution_count": 15,
   "metadata": {},
   "outputs": [
    {
     "data": {
      "image/png": "[encoded data removed]",
      "text/plain": [
       "<matplotlib.figure.Figure at 0x7f7bf0053278>"
      ]
     },
     "metadata": {},
     "output_type": "display_data"
    }
   ],
   "source": [
    "plt.figure(figsize=(10, 6))\n",
    "\n",
    "# PDF\n",
    "plt.subplot(121)\n",
    "\n",
    "plt.plot(x_values, pdf_y_values, label=(r'$\\alpha=%.1f,\\ \\beta=%.1f$' % (alpha, beta)))\n",
    "\n",
    "plt.xlim(0, 1)\n",
    "plt.xlabel('Probability of crime')\n",
    "plt.ylabel('Probability density')\n",
    "plt.title('Beta Distribution PDF')\n",
    "plt.legend(loc=1)\n",
    "\n",
    "# CDF\n",
    "plt.subplot(122)\n",
    "\n",
    "plt.plot(x_values, cdf_y_values)\n",
    "\n",
    "plt.xlim(0, 1)\n",
    "plt.ylim(0, 1.005)\n",
    "plt.yticks(np.linspace(0, 1, 21))\n",
    "plt.xlabel('Probability of crime')\n",
    "plt.ylabel('Cumulative probability')\n",
    "plt.title('Beta Distribution CDF')\n",
    "\n",
    "plt.show()"
   ]
  },
  {
   "cell_type": "markdown",
   "metadata": {},
   "source": [
    "### Calcular la verdadera probabilidad "
   ]
  },
  {
   "cell_type": "code",
   "execution_count": 16,
   "metadata": {},
   "outputs": [
    {
     "name": "stdout",
     "output_type": "stream",
     "text": [
      "La verdadera probabilidad es: 0.001\n"
     ]
    }
   ],
   "source": [
    "percentile = max(\n",
    "    [x_value for x_value, y_value in zip(x_values, cdf_y_values) if y_value <= .99]\n",
    ")\n",
    "\n",
    "print('La verdadera probabilidad es: {}'.format(round(percentile, 4)))"
   ]
  },
  {
   "cell_type": "markdown",
   "metadata": {},
   "source": [
    "## ¿Cuáles crimenes son similares a homicidio con respecto a los lugares donde ocurren?"
   ]
  },
  {
   "cell_type": "code",
   "execution_count": 17,
   "metadata": {},
   "outputs": [
    {
     "data": {
      "text/html": [
       "<div>\n",
       "<style scoped>\n",
       "    .dataframe tbody tr th:only-of-type {\n",
       "        vertical-align: middle;\n",
       "    }\n",
       "\n",
       "    .dataframe tbody tr th {\n",
       "        vertical-align: top;\n",
       "    }\n",
       "\n",
       "    .dataframe thead th {\n",
       "        text-align: right;\n",
       "    }\n",
       "</style>\n",
       "<table border=\"1\" class=\"dataframe\">\n",
       "  <thead>\n",
       "    <tr style=\"text-align: right;\">\n",
       "      <th></th>\n",
       "      <th>Dc_Dist</th>\n",
       "      <th>Psa</th>\n",
       "      <th>Dispatch_Date_Time</th>\n",
       "      <th>Dispatch_Date</th>\n",
       "      <th>Dispatch_Time</th>\n",
       "      <th>Hour</th>\n",
       "      <th>Dc_Key</th>\n",
       "      <th>Location_Block</th>\n",
       "      <th>UCR_General</th>\n",
       "      <th>Text_General_Code</th>\n",
       "      <th>Police_Districts</th>\n",
       "      <th>Month</th>\n",
       "      <th>Lon</th>\n",
       "      <th>Lat</th>\n",
       "    </tr>\n",
       "  </thead>\n",
       "  <tbody>\n",
       "    <tr>\n",
       "      <th>0</th>\n",
       "      <td>18</td>\n",
       "      <td>3</td>\n",
       "      <td>2009-10-02 14:24:00</td>\n",
       "      <td>2009-10-02</td>\n",
       "      <td>14:24:00</td>\n",
       "      <td>14</td>\n",
       "      <td>200918067518</td>\n",
       "      <td>S 38TH ST  / MARKETUT ST</td>\n",
       "      <td>800.0</td>\n",
       "      <td>Other Assaults</td>\n",
       "      <td>NaN</td>\n",
       "      <td>2009-10</td>\n",
       "      <td>NaN</td>\n",
       "      <td>NaN</td>\n",
       "    </tr>\n",
       "    <tr>\n",
       "      <th>1</th>\n",
       "      <td>14</td>\n",
       "      <td>1</td>\n",
       "      <td>2009-05-10 00:55:00</td>\n",
       "      <td>2009-05-10</td>\n",
       "      <td>00:55:00</td>\n",
       "      <td>0</td>\n",
       "      <td>200914033994</td>\n",
       "      <td>8500 BLOCK MITCH</td>\n",
       "      <td>2600.0</td>\n",
       "      <td>All Other Offenses</td>\n",
       "      <td>NaN</td>\n",
       "      <td>2009-05</td>\n",
       "      <td>NaN</td>\n",
       "      <td>NaN</td>\n",
       "    </tr>\n",
       "    <tr>\n",
       "      <th>2</th>\n",
       "      <td>25</td>\n",
       "      <td>J</td>\n",
       "      <td>2009-08-07 15:40:00</td>\n",
       "      <td>2009-08-07</td>\n",
       "      <td>15:40:00</td>\n",
       "      <td>15</td>\n",
       "      <td>200925083199</td>\n",
       "      <td>6TH CAMBRIA</td>\n",
       "      <td>800.0</td>\n",
       "      <td>Other Assaults</td>\n",
       "      <td>NaN</td>\n",
       "      <td>2009-08</td>\n",
       "      <td>NaN</td>\n",
       "      <td>NaN</td>\n",
       "    </tr>\n",
       "    <tr>\n",
       "      <th>3</th>\n",
       "      <td>35</td>\n",
       "      <td>D</td>\n",
       "      <td>2009-07-19 01:09:00</td>\n",
       "      <td>2009-07-19</td>\n",
       "      <td>01:09:00</td>\n",
       "      <td>1</td>\n",
       "      <td>200935061008</td>\n",
       "      <td>5500 BLOCK N 5TH ST</td>\n",
       "      <td>1500.0</td>\n",
       "      <td>Weapon Violations</td>\n",
       "      <td>20.0</td>\n",
       "      <td>2009-07</td>\n",
       "      <td>-75.130477</td>\n",
       "      <td>40.036389</td>\n",
       "    </tr>\n",
       "    <tr>\n",
       "      <th>4</th>\n",
       "      <td>9</td>\n",
       "      <td>R</td>\n",
       "      <td>2009-06-25 00:14:00</td>\n",
       "      <td>2009-06-25</td>\n",
       "      <td>00:14:00</td>\n",
       "      <td>0</td>\n",
       "      <td>200909030511</td>\n",
       "      <td>1800 BLOCK WYLIE ST</td>\n",
       "      <td>2600.0</td>\n",
       "      <td>All Other Offenses</td>\n",
       "      <td>8.0</td>\n",
       "      <td>2009-06</td>\n",
       "      <td>-75.166350</td>\n",
       "      <td>39.969532</td>\n",
       "    </tr>\n",
       "  </tbody>\n",
       "</table>\n",
       "</div>"
      ],
      "text/plain": [
       "   Dc_Dist Psa   Dispatch_Date_Time Dispatch_Date Dispatch_Time  Hour  \\\n",
       "0       18   3  2009-10-02 14:24:00    2009-10-02      14:24:00    14   \n",
       "1       14   1  2009-05-10 00:55:00    2009-05-10      00:55:00     0   \n",
       "2       25   J  2009-08-07 15:40:00    2009-08-07      15:40:00    15   \n",
       "3       35   D  2009-07-19 01:09:00    2009-07-19      01:09:00     1   \n",
       "4        9   R  2009-06-25 00:14:00    2009-06-25      00:14:00     0   \n",
       "\n",
       "         Dc_Key            Location_Block  UCR_General   Text_General_Code  \\\n",
       "0  200918067518  S 38TH ST  / MARKETUT ST        800.0      Other Assaults   \n",
       "1  200914033994          8500 BLOCK MITCH       2600.0  All Other Offenses   \n",
       "2  200925083199               6TH CAMBRIA        800.0      Other Assaults   \n",
       "3  200935061008       5500 BLOCK N 5TH ST       1500.0   Weapon Violations   \n",
       "4  200909030511       1800 BLOCK WYLIE ST       2600.0  All Other Offenses   \n",
       "\n",
       "   Police_Districts    Month        Lon        Lat  \n",
       "0               NaN  2009-10        NaN        NaN  \n",
       "1               NaN  2009-05        NaN        NaN  \n",
       "2               NaN  2009-08        NaN        NaN  \n",
       "3              20.0  2009-07 -75.130477  40.036389  \n",
       "4               8.0  2009-06 -75.166350  39.969532  "
      ]
     },
     "execution_count": 17,
     "metadata": {},
     "output_type": "execute_result"
    }
   ],
   "source": [
    "similarities_data = data\n",
    "similarities_data.head()"
   ]
  },
  {
   "cell_type": "markdown",
   "metadata": {},
   "source": [
    "### Eliminar las columnas innecesarias "
   ]
  },
  {
   "cell_type": "code",
   "execution_count": 18,
   "metadata": {},
   "outputs": [
    {
     "data": {
      "text/plain": [
       "['Lat',\n",
       " 'Lon',\n",
       " 'Dispatch_Date_Time',\n",
       " 'Dispatch_Date',\n",
       " 'Hour',\n",
       " 'Dc_Dist',\n",
       " 'Dispatch_Time',\n",
       " 'Dc_Key',\n",
       " 'Month',\n",
       " 'UCR_General',\n",
       " 'Police_Districts',\n",
       " 'Psa']"
      ]
     },
     "execution_count": 18,
     "metadata": {},
     "output_type": "execute_result"
    }
   ],
   "source": [
    "columns = set(similarities_data)\n",
    "columns = columns - set(['Text_General_Code', 'Location_Block'])\n",
    "list(columns)"
   ]
  },
  {
   "cell_type": "code",
   "execution_count": 19,
   "metadata": {
    "scrolled": true
   },
   "outputs": [
    {
     "data": {
      "text/html": [
       "<div>\n",
       "<style scoped>\n",
       "    .dataframe tbody tr th:only-of-type {\n",
       "        vertical-align: middle;\n",
       "    }\n",
       "\n",
       "    .dataframe tbody tr th {\n",
       "        vertical-align: top;\n",
       "    }\n",
       "\n",
       "    .dataframe thead th {\n",
       "        text-align: right;\n",
       "    }\n",
       "</style>\n",
       "<table border=\"1\" class=\"dataframe\">\n",
       "  <thead>\n",
       "    <tr style=\"text-align: right;\">\n",
       "      <th></th>\n",
       "      <th>Location_Block</th>\n",
       "      <th>Text_General_Code</th>\n",
       "    </tr>\n",
       "  </thead>\n",
       "  <tbody>\n",
       "    <tr>\n",
       "      <th>0</th>\n",
       "      <td>S 38TH ST  / MARKETUT ST</td>\n",
       "      <td>Other Assaults</td>\n",
       "    </tr>\n",
       "    <tr>\n",
       "      <th>1</th>\n",
       "      <td>8500 BLOCK MITCH</td>\n",
       "      <td>All Other Offenses</td>\n",
       "    </tr>\n",
       "    <tr>\n",
       "      <th>2</th>\n",
       "      <td>6TH CAMBRIA</td>\n",
       "      <td>Other Assaults</td>\n",
       "    </tr>\n",
       "    <tr>\n",
       "      <th>3</th>\n",
       "      <td>5500 BLOCK N 5TH ST</td>\n",
       "      <td>Weapon Violations</td>\n",
       "    </tr>\n",
       "    <tr>\n",
       "      <th>4</th>\n",
       "      <td>1800 BLOCK WYLIE ST</td>\n",
       "      <td>All Other Offenses</td>\n",
       "    </tr>\n",
       "  </tbody>\n",
       "</table>\n",
       "</div>"
      ],
      "text/plain": [
       "             Location_Block   Text_General_Code\n",
       "0  S 38TH ST  / MARKETUT ST      Other Assaults\n",
       "1          8500 BLOCK MITCH  All Other Offenses\n",
       "2               6TH CAMBRIA      Other Assaults\n",
       "3       5500 BLOCK N 5TH ST   Weapon Violations\n",
       "4       1800 BLOCK WYLIE ST  All Other Offenses"
      ]
     },
     "execution_count": 19,
     "metadata": {},
     "output_type": "execute_result"
    }
   ],
   "source": [
    "similarities_data = similarities_data.drop(columns, axis=1)\n",
    "similarities_data.head()"
   ]
  },
  {
   "cell_type": "markdown",
   "metadata": {},
   "source": [
    "### Contar los crimenes por localización"
   ]
  },
  {
   "cell_type": "code",
   "execution_count": 20,
   "metadata": {},
   "outputs": [],
   "source": [
    "similarities_data['Occurrence'] = 1\n",
    "similarities_data.groupby(['Text_General_Code', 'Location_Block']).count().sort_values('Occurrence', ascending=False)\n",
    "similarities_data.fillna(0, inplace=True)"
   ]
  },
  {
   "cell_type": "code",
   "execution_count": 21,
   "metadata": {},
   "outputs": [
    {
     "data": {
      "text/plain": [
       "(484894, 3)"
      ]
     },
     "execution_count": 21,
     "metadata": {},
     "output_type": "execute_result"
    }
   ],
   "source": [
    "similarities_data = similarities_data.drop_duplicates()\n",
    "similarities_data.shape"
   ]
  },
  {
   "cell_type": "code",
   "execution_count": 22,
   "metadata": {},
   "outputs": [
    {
     "data": {
      "text/html": [
       "<div>\n",
       "<style scoped>\n",
       "    .dataframe tbody tr th:only-of-type {\n",
       "        vertical-align: middle;\n",
       "    }\n",
       "\n",
       "    .dataframe tbody tr th {\n",
       "        vertical-align: top;\n",
       "    }\n",
       "\n",
       "    .dataframe thead th {\n",
       "        text-align: right;\n",
       "    }\n",
       "</style>\n",
       "<table border=\"1\" class=\"dataframe\">\n",
       "  <thead>\n",
       "    <tr style=\"text-align: right;\">\n",
       "      <th></th>\n",
       "      <th>Location_Block</th>\n",
       "      <th>Text_General_Code</th>\n",
       "      <th>Occurrence</th>\n",
       "    </tr>\n",
       "  </thead>\n",
       "  <tbody>\n",
       "    <tr>\n",
       "      <th>0</th>\n",
       "      <td>S 38TH ST  / MARKETUT ST</td>\n",
       "      <td>Other Assaults</td>\n",
       "      <td>1</td>\n",
       "    </tr>\n",
       "    <tr>\n",
       "      <th>1</th>\n",
       "      <td>8500 BLOCK MITCH</td>\n",
       "      <td>All Other Offenses</td>\n",
       "      <td>1</td>\n",
       "    </tr>\n",
       "    <tr>\n",
       "      <th>2</th>\n",
       "      <td>6TH CAMBRIA</td>\n",
       "      <td>Other Assaults</td>\n",
       "      <td>1</td>\n",
       "    </tr>\n",
       "    <tr>\n",
       "      <th>3</th>\n",
       "      <td>5500 BLOCK N 5TH ST</td>\n",
       "      <td>Weapon Violations</td>\n",
       "      <td>1</td>\n",
       "    </tr>\n",
       "    <tr>\n",
       "      <th>4</th>\n",
       "      <td>1800 BLOCK WYLIE ST</td>\n",
       "      <td>All Other Offenses</td>\n",
       "      <td>1</td>\n",
       "    </tr>\n",
       "  </tbody>\n",
       "</table>\n",
       "</div>"
      ],
      "text/plain": [
       "             Location_Block   Text_General_Code  Occurrence\n",
       "0  S 38TH ST  / MARKETUT ST      Other Assaults           1\n",
       "1          8500 BLOCK MITCH  All Other Offenses           1\n",
       "2               6TH CAMBRIA      Other Assaults           1\n",
       "3       5500 BLOCK N 5TH ST   Weapon Violations           1\n",
       "4       1800 BLOCK WYLIE ST  All Other Offenses           1"
      ]
     },
     "execution_count": 22,
     "metadata": {},
     "output_type": "execute_result"
    }
   ],
   "source": [
    "similarities_data.head()"
   ]
  },
  {
   "cell_type": "markdown",
   "metadata": {},
   "source": [
    "### Crear matriz que se utiliza en las funciones de similaridad"
   ]
  },
  {
   "cell_type": "code",
   "execution_count": 23,
   "metadata": {},
   "outputs": [],
   "source": [
    "crimes_matrix = similarities_data.reset_index() \\\n",
    "    .pivot(index='Text_General_Code', columns='Location_Block', values='Occurrence') \\\n",
    "    .fillna(0) \\\n",
    "    .astype(int)"
   ]
  },
  {
   "cell_type": "code",
   "execution_count": 24,
   "metadata": {},
   "outputs": [
    {
     "data": {
      "text/html": [
       "<div>\n",
       "<style scoped>\n",
       "    .dataframe tbody tr th:only-of-type {\n",
       "        vertical-align: middle;\n",
       "    }\n",
       "\n",
       "    .dataframe tbody tr th {\n",
       "        vertical-align: top;\n",
       "    }\n",
       "\n",
       "    .dataframe thead th {\n",
       "        text-align: right;\n",
       "    }\n",
       "</style>\n",
       "<table border=\"1\" class=\"dataframe\">\n",
       "  <thead>\n",
       "    <tr style=\"text-align: right;\">\n",
       "      <th>Location_Block</th>\n",
       "      <th>\"A\" ST  &amp; WESTMORELAND ST</th>\n",
       "      <th>\"A\" ST. &amp; WESTMORELAND ST</th>\n",
       "      <th>\"F\" CHECKPOINT</th>\n",
       "      <th>\"F\" TERMINAL @ 98 PIA WAY</th>\n",
       "      <th>(5700) GERMANTOWN AND CHELTEN AVENUES</th>\n",
       "      <th>-2 CARGO CITY</th>\n",
       "      <th>-300 BUSTI PLACE - APT. 704</th>\n",
       "      <th>-WEST GATE 22</th>\n",
       "      <th>.5100 OGDEN ST</th>\n",
       "      <th>/C BAGGAGE</th>\n",
       "      <th>...</th>\n",
       "      <th>`42 S 8TH ST</th>\n",
       "      <th>`500 MARKET ST</th>\n",
       "      <th>`51 E GORGAS LN</th>\n",
       "      <th>`523 LIMEKILN PIKE</th>\n",
       "      <th>`531 N GRATZ ST</th>\n",
       "      <th>`603 N 6TH ST</th>\n",
       "      <th>`653 S 2ND ST</th>\n",
       "      <th>`700 FRONTENAC ST</th>\n",
       "      <th>`700 SPRUCE ST</th>\n",
       "      <th>`732 SIGEL ST</th>\n",
       "    </tr>\n",
       "    <tr>\n",
       "      <th>Text_General_Code</th>\n",
       "      <th></th>\n",
       "      <th></th>\n",
       "      <th></th>\n",
       "      <th></th>\n",
       "      <th></th>\n",
       "      <th></th>\n",
       "      <th></th>\n",
       "      <th></th>\n",
       "      <th></th>\n",
       "      <th></th>\n",
       "      <th></th>\n",
       "      <th></th>\n",
       "      <th></th>\n",
       "      <th></th>\n",
       "      <th></th>\n",
       "      <th></th>\n",
       "      <th></th>\n",
       "      <th></th>\n",
       "      <th></th>\n",
       "      <th></th>\n",
       "      <th></th>\n",
       "    </tr>\n",
       "  </thead>\n",
       "  <tbody>\n",
       "    <tr>\n",
       "      <th>0</th>\n",
       "      <td>0</td>\n",
       "      <td>0</td>\n",
       "      <td>0</td>\n",
       "      <td>0</td>\n",
       "      <td>0</td>\n",
       "      <td>0</td>\n",
       "      <td>0</td>\n",
       "      <td>0</td>\n",
       "      <td>0</td>\n",
       "      <td>0</td>\n",
       "      <td>...</td>\n",
       "      <td>0</td>\n",
       "      <td>0</td>\n",
       "      <td>0</td>\n",
       "      <td>0</td>\n",
       "      <td>0</td>\n",
       "      <td>0</td>\n",
       "      <td>0</td>\n",
       "      <td>0</td>\n",
       "      <td>0</td>\n",
       "      <td>0</td>\n",
       "    </tr>\n",
       "    <tr>\n",
       "      <th>Aggravated Assault Firearm</th>\n",
       "      <td>0</td>\n",
       "      <td>1</td>\n",
       "      <td>0</td>\n",
       "      <td>0</td>\n",
       "      <td>0</td>\n",
       "      <td>0</td>\n",
       "      <td>0</td>\n",
       "      <td>0</td>\n",
       "      <td>0</td>\n",
       "      <td>0</td>\n",
       "      <td>...</td>\n",
       "      <td>0</td>\n",
       "      <td>0</td>\n",
       "      <td>0</td>\n",
       "      <td>0</td>\n",
       "      <td>0</td>\n",
       "      <td>0</td>\n",
       "      <td>0</td>\n",
       "      <td>0</td>\n",
       "      <td>0</td>\n",
       "      <td>0</td>\n",
       "    </tr>\n",
       "    <tr>\n",
       "      <th>Aggravated Assault No Firearm</th>\n",
       "      <td>0</td>\n",
       "      <td>0</td>\n",
       "      <td>0</td>\n",
       "      <td>0</td>\n",
       "      <td>0</td>\n",
       "      <td>0</td>\n",
       "      <td>1</td>\n",
       "      <td>0</td>\n",
       "      <td>0</td>\n",
       "      <td>0</td>\n",
       "      <td>...</td>\n",
       "      <td>0</td>\n",
       "      <td>0</td>\n",
       "      <td>0</td>\n",
       "      <td>0</td>\n",
       "      <td>0</td>\n",
       "      <td>0</td>\n",
       "      <td>0</td>\n",
       "      <td>0</td>\n",
       "      <td>0</td>\n",
       "      <td>0</td>\n",
       "    </tr>\n",
       "    <tr>\n",
       "      <th>All Other Offenses</th>\n",
       "      <td>0</td>\n",
       "      <td>0</td>\n",
       "      <td>0</td>\n",
       "      <td>0</td>\n",
       "      <td>0</td>\n",
       "      <td>0</td>\n",
       "      <td>0</td>\n",
       "      <td>0</td>\n",
       "      <td>0</td>\n",
       "      <td>1</td>\n",
       "      <td>...</td>\n",
       "      <td>1</td>\n",
       "      <td>1</td>\n",
       "      <td>0</td>\n",
       "      <td>1</td>\n",
       "      <td>0</td>\n",
       "      <td>0</td>\n",
       "      <td>0</td>\n",
       "      <td>0</td>\n",
       "      <td>0</td>\n",
       "      <td>0</td>\n",
       "    </tr>\n",
       "    <tr>\n",
       "      <th>Arson</th>\n",
       "      <td>0</td>\n",
       "      <td>0</td>\n",
       "      <td>0</td>\n",
       "      <td>0</td>\n",
       "      <td>0</td>\n",
       "      <td>0</td>\n",
       "      <td>0</td>\n",
       "      <td>0</td>\n",
       "      <td>0</td>\n",
       "      <td>0</td>\n",
       "      <td>...</td>\n",
       "      <td>0</td>\n",
       "      <td>0</td>\n",
       "      <td>0</td>\n",
       "      <td>0</td>\n",
       "      <td>0</td>\n",
       "      <td>0</td>\n",
       "      <td>0</td>\n",
       "      <td>0</td>\n",
       "      <td>0</td>\n",
       "      <td>0</td>\n",
       "    </tr>\n",
       "  </tbody>\n",
       "</table>\n",
       "<p>5 rows × 116656 columns</p>\n",
       "</div>"
      ],
      "text/plain": [
       "Location_Block                 \"A\" ST  & WESTMORELAND ST  \\\n",
       "Text_General_Code                                          \n",
       "0                                                      0   \n",
       "Aggravated Assault Firearm                             0   \n",
       "Aggravated Assault No Firearm                          0   \n",
       "All Other Offenses                                     0   \n",
       "Arson                                                  0   \n",
       "\n",
       "Location_Block                 \"A\" ST. & WESTMORELAND ST  \"F\" CHECKPOINT  \\\n",
       "Text_General_Code                                                          \n",
       "0                                                      0               0   \n",
       "Aggravated Assault Firearm                             1               0   \n",
       "Aggravated Assault No Firearm                          0               0   \n",
       "All Other Offenses                                     0               0   \n",
       "Arson                                                  0               0   \n",
       "\n",
       "Location_Block                 \"F\" TERMINAL @ 98 PIA WAY  \\\n",
       "Text_General_Code                                          \n",
       "0                                                      0   \n",
       "Aggravated Assault Firearm                             0   \n",
       "Aggravated Assault No Firearm                          0   \n",
       "All Other Offenses                                     0   \n",
       "Arson                                                  0   \n",
       "\n",
       "Location_Block                 (5700) GERMANTOWN AND CHELTEN AVENUES  \\\n",
       "Text_General_Code                                                      \n",
       "0                                                                  0   \n",
       "Aggravated Assault Firearm                                         0   \n",
       "Aggravated Assault No Firearm                                      0   \n",
       "All Other Offenses                                                 0   \n",
       "Arson                                                              0   \n",
       "\n",
       "Location_Block                 -2 CARGO CITY  -300 BUSTI PLACE - APT. 704  \\\n",
       "Text_General_Code                                                           \n",
       "0                                          0                            0   \n",
       "Aggravated Assault Firearm                 0                            0   \n",
       "Aggravated Assault No Firearm              0                            1   \n",
       "All Other Offenses                         0                            0   \n",
       "Arson                                      0                            0   \n",
       "\n",
       "Location_Block                 -WEST GATE 22  .5100 OGDEN ST  /C BAGGAGE  \\\n",
       "Text_General_Code                                                          \n",
       "0                                          0               0           0   \n",
       "Aggravated Assault Firearm                 0               0           0   \n",
       "Aggravated Assault No Firearm              0               0           0   \n",
       "All Other Offenses                         0               0           1   \n",
       "Arson                                      0               0           0   \n",
       "\n",
       "Location_Block                     ...        `42 S 8TH ST  `500 MARKET ST  \\\n",
       "Text_General_Code                  ...                                       \n",
       "0                                  ...                   0               0   \n",
       "Aggravated Assault Firearm         ...                   0               0   \n",
       "Aggravated Assault No Firearm      ...                   0               0   \n",
       "All Other Offenses                 ...                   1               1   \n",
       "Arson                              ...                   0               0   \n",
       "\n",
       "Location_Block                 `51 E GORGAS LN  `523 LIMEKILN PIKE  \\\n",
       "Text_General_Code                                                    \n",
       "0                                            0                   0   \n",
       "Aggravated Assault Firearm                   0                   0   \n",
       "Aggravated Assault No Firearm                0                   0   \n",
       "All Other Offenses                           0                   1   \n",
       "Arson                                        0                   0   \n",
       "\n",
       "Location_Block                 `531 N GRATZ ST  `603 N 6TH ST  `653 S 2ND ST  \\\n",
       "Text_General_Code                                                              \n",
       "0                                            0              0              0   \n",
       "Aggravated Assault Firearm                   0              0              0   \n",
       "Aggravated Assault No Firearm                0              0              0   \n",
       "All Other Offenses                           0              0              0   \n",
       "Arson                                        0              0              0   \n",
       "\n",
       "Location_Block                 `700 FRONTENAC ST  `700 SPRUCE ST  \\\n",
       "Text_General_Code                                                  \n",
       "0                                              0               0   \n",
       "Aggravated Assault Firearm                     0               0   \n",
       "Aggravated Assault No Firearm                  0               0   \n",
       "All Other Offenses                             0               0   \n",
       "Arson                                          0               0   \n",
       "\n",
       "Location_Block                 `732 SIGEL ST  \n",
       "Text_General_Code                             \n",
       "0                                          0  \n",
       "Aggravated Assault Firearm                 0  \n",
       "Aggravated Assault No Firearm              0  \n",
       "All Other Offenses                         0  \n",
       "Arson                                      0  \n",
       "\n",
       "[5 rows x 116656 columns]"
      ]
     },
     "execution_count": 24,
     "metadata": {},
     "output_type": "execute_result"
    }
   ],
   "source": [
    "crimes_matrix.head()"
   ]
  },
  {
   "cell_type": "code",
   "execution_count": 25,
   "metadata": {},
   "outputs": [
    {
     "data": {
      "text/plain": [
       "Text_General_Code\n",
       "0                                            235\n",
       "Aggravated Assault Firearm                 12733\n",
       "Aggravated Assault No Firearm              21926\n",
       "All Other Offenses                         44272\n",
       "Arson                                       4457\n",
       "Burglary Non-Residential                    7452\n",
       "Burglary Residential                       19580\n",
       "DRIVING UNDER THE INFLUENCE                21585\n",
       "Disorderly Conduct                         12039\n",
       "Embezzlement                                1998\n",
       "Forgery and Counterfeiting                  2996\n",
       "Fraud                                      23725\n",
       "Gambling Violations                          546\n",
       "Homicide                                    2875\n",
       "Liquor Law Violations                       1783\n",
       "Motor Vehicle Theft                        21108\n",
       "Narcotic / Drug Law Violations             25298\n",
       "Offenses Against Family and Children        1381\n",
       "Other Assaults                             41450\n",
       "Other Sex Offenses (Not Commercialized)     8989\n",
       "Prostitution and Commercialized Vice        1640\n",
       "Public Drunkenness                          2339\n",
       "Rape                                        7778\n",
       "Receiving Stolen Property                    709\n",
       "Recovered Stolen Motor Vehicle             33231\n",
       "Robbery Firearm                            19725\n",
       "Robbery No Firearm                         22283\n",
       "Theft from Vehicle                         36989\n",
       "Thefts                                     36457\n",
       "Vagrancy/Loitering                          1714\n",
       "Vandalism/Criminal Mischief                36203\n",
       "Weapon Violations                           9398\n",
       "dtype: int64"
      ]
     },
     "execution_count": 25,
     "metadata": {},
     "output_type": "execute_result"
    }
   ],
   "source": [
    "# Muestra en cuantos lugares ha ocurrido cada crimen\n",
    "crimes_matrix.sum(axis=1)"
   ]
  },
  {
   "cell_type": "markdown",
   "metadata": {},
   "source": [
    "### Funciones para hallar la similaridad "
   ]
  },
  {
   "cell_type": "code",
   "execution_count": 26,
   "metadata": {},
   "outputs": [],
   "source": [
    "# Similaridad entre dos crimenes\n",
    "def jaccard_similarity(crime_1, crime_2):\n",
    "    crime_1_locations = set( crime_1[crime_1 > 0].index )\n",
    "    crime_2_locations = set( crime_2[crime_2 > 0].index )\n",
    "    intersection_length = len(crime_1_locations.intersection(crime_2_locations))\n",
    "    union_length = len(crime_1_locations.union(crime_2_locations))\n",
    "    \n",
    "    return intersection_length / union_length"
   ]
  },
  {
   "cell_type": "code",
   "execution_count": 27,
   "metadata": {},
   "outputs": [],
   "source": [
    "# Similaridad entre un crimen y todos los demás\n",
    "def compute_pairwise_jaccard_similarities(query_crime_index):\n",
    "    query_crime = crimes_matrix.loc[query_crime_index]\n",
    "    candidate_crimes = crimes_matrix.drop(query_crime_index, axis=0)\n",
    "    similarities = {}\n",
    "    \n",
    "    for candidate_crime_id, candidate_crime in candidate_crimes.iterrows():\n",
    "        similarity = jaccard_similarity(query_crime, candidate_crime)\n",
    "        similarities[candidate_crime_id] = similarity\n",
    "    \n",
    "    return pd.Series(similarities)"
   ]
  },
  {
   "cell_type": "code",
   "execution_count": 28,
   "metadata": {},
   "outputs": [
    {
     "data": {
      "text/html": [
       "<div>\n",
       "<style scoped>\n",
       "    .dataframe tbody tr th:only-of-type {\n",
       "        vertical-align: middle;\n",
       "    }\n",
       "\n",
       "    .dataframe tbody tr th {\n",
       "        vertical-align: top;\n",
       "    }\n",
       "\n",
       "    .dataframe thead th {\n",
       "        text-align: right;\n",
       "    }\n",
       "</style>\n",
       "<table border=\"1\" class=\"dataframe\">\n",
       "  <thead>\n",
       "    <tr style=\"text-align: right;\">\n",
       "      <th>Location_Block</th>\n",
       "      <th>\"A\" ST  &amp; WESTMORELAND ST</th>\n",
       "      <th>\"A\" ST. &amp; WESTMORELAND ST</th>\n",
       "      <th>\"F\" CHECKPOINT</th>\n",
       "      <th>\"F\" TERMINAL @ 98 PIA WAY</th>\n",
       "      <th>(5700) GERMANTOWN AND CHELTEN AVENUES</th>\n",
       "      <th>-2 CARGO CITY</th>\n",
       "      <th>-300 BUSTI PLACE - APT. 704</th>\n",
       "      <th>-WEST GATE 22</th>\n",
       "      <th>.5100 OGDEN ST</th>\n",
       "      <th>/C BAGGAGE</th>\n",
       "      <th>...</th>\n",
       "      <th>`42 S 8TH ST</th>\n",
       "      <th>`500 MARKET ST</th>\n",
       "      <th>`51 E GORGAS LN</th>\n",
       "      <th>`523 LIMEKILN PIKE</th>\n",
       "      <th>`531 N GRATZ ST</th>\n",
       "      <th>`603 N 6TH ST</th>\n",
       "      <th>`653 S 2ND ST</th>\n",
       "      <th>`700 FRONTENAC ST</th>\n",
       "      <th>`700 SPRUCE ST</th>\n",
       "      <th>`732 SIGEL ST</th>\n",
       "    </tr>\n",
       "    <tr>\n",
       "      <th>Text_General_Code</th>\n",
       "      <th></th>\n",
       "      <th></th>\n",
       "      <th></th>\n",
       "      <th></th>\n",
       "      <th></th>\n",
       "      <th></th>\n",
       "      <th></th>\n",
       "      <th></th>\n",
       "      <th></th>\n",
       "      <th></th>\n",
       "      <th></th>\n",
       "      <th></th>\n",
       "      <th></th>\n",
       "      <th></th>\n",
       "      <th></th>\n",
       "      <th></th>\n",
       "      <th></th>\n",
       "      <th></th>\n",
       "      <th></th>\n",
       "      <th></th>\n",
       "      <th></th>\n",
       "    </tr>\n",
       "  </thead>\n",
       "  <tbody>\n",
       "    <tr>\n",
       "      <th>0</th>\n",
       "      <td>0</td>\n",
       "      <td>0</td>\n",
       "      <td>0</td>\n",
       "      <td>0</td>\n",
       "      <td>0</td>\n",
       "      <td>0</td>\n",
       "      <td>0</td>\n",
       "      <td>0</td>\n",
       "      <td>0</td>\n",
       "      <td>0</td>\n",
       "      <td>...</td>\n",
       "      <td>0</td>\n",
       "      <td>0</td>\n",
       "      <td>0</td>\n",
       "      <td>0</td>\n",
       "      <td>0</td>\n",
       "      <td>0</td>\n",
       "      <td>0</td>\n",
       "      <td>0</td>\n",
       "      <td>0</td>\n",
       "      <td>0</td>\n",
       "    </tr>\n",
       "    <tr>\n",
       "      <th>Aggravated Assault Firearm</th>\n",
       "      <td>0</td>\n",
       "      <td>1</td>\n",
       "      <td>0</td>\n",
       "      <td>0</td>\n",
       "      <td>0</td>\n",
       "      <td>0</td>\n",
       "      <td>0</td>\n",
       "      <td>0</td>\n",
       "      <td>0</td>\n",
       "      <td>0</td>\n",
       "      <td>...</td>\n",
       "      <td>0</td>\n",
       "      <td>0</td>\n",
       "      <td>0</td>\n",
       "      <td>0</td>\n",
       "      <td>0</td>\n",
       "      <td>0</td>\n",
       "      <td>0</td>\n",
       "      <td>0</td>\n",
       "      <td>0</td>\n",
       "      <td>0</td>\n",
       "    </tr>\n",
       "    <tr>\n",
       "      <th>Aggravated Assault No Firearm</th>\n",
       "      <td>0</td>\n",
       "      <td>0</td>\n",
       "      <td>0</td>\n",
       "      <td>0</td>\n",
       "      <td>0</td>\n",
       "      <td>0</td>\n",
       "      <td>1</td>\n",
       "      <td>0</td>\n",
       "      <td>0</td>\n",
       "      <td>0</td>\n",
       "      <td>...</td>\n",
       "      <td>0</td>\n",
       "      <td>0</td>\n",
       "      <td>0</td>\n",
       "      <td>0</td>\n",
       "      <td>0</td>\n",
       "      <td>0</td>\n",
       "      <td>0</td>\n",
       "      <td>0</td>\n",
       "      <td>0</td>\n",
       "      <td>0</td>\n",
       "    </tr>\n",
       "    <tr>\n",
       "      <th>All Other Offenses</th>\n",
       "      <td>0</td>\n",
       "      <td>0</td>\n",
       "      <td>0</td>\n",
       "      <td>0</td>\n",
       "      <td>0</td>\n",
       "      <td>0</td>\n",
       "      <td>0</td>\n",
       "      <td>0</td>\n",
       "      <td>0</td>\n",
       "      <td>1</td>\n",
       "      <td>...</td>\n",
       "      <td>1</td>\n",
       "      <td>1</td>\n",
       "      <td>0</td>\n",
       "      <td>1</td>\n",
       "      <td>0</td>\n",
       "      <td>0</td>\n",
       "      <td>0</td>\n",
       "      <td>0</td>\n",
       "      <td>0</td>\n",
       "      <td>0</td>\n",
       "    </tr>\n",
       "    <tr>\n",
       "      <th>Arson</th>\n",
       "      <td>0</td>\n",
       "      <td>0</td>\n",
       "      <td>0</td>\n",
       "      <td>0</td>\n",
       "      <td>0</td>\n",
       "      <td>0</td>\n",
       "      <td>0</td>\n",
       "      <td>0</td>\n",
       "      <td>0</td>\n",
       "      <td>0</td>\n",
       "      <td>...</td>\n",
       "      <td>0</td>\n",
       "      <td>0</td>\n",
       "      <td>0</td>\n",
       "      <td>0</td>\n",
       "      <td>0</td>\n",
       "      <td>0</td>\n",
       "      <td>0</td>\n",
       "      <td>0</td>\n",
       "      <td>0</td>\n",
       "      <td>0</td>\n",
       "    </tr>\n",
       "  </tbody>\n",
       "</table>\n",
       "<p>5 rows × 116656 columns</p>\n",
       "</div>"
      ],
      "text/plain": [
       "Location_Block                 \"A\" ST  & WESTMORELAND ST  \\\n",
       "Text_General_Code                                          \n",
       "0                                                      0   \n",
       "Aggravated Assault Firearm                             0   \n",
       "Aggravated Assault No Firearm                          0   \n",
       "All Other Offenses                                     0   \n",
       "Arson                                                  0   \n",
       "\n",
       "Location_Block                 \"A\" ST. & WESTMORELAND ST  \"F\" CHECKPOINT  \\\n",
       "Text_General_Code                                                          \n",
       "0                                                      0               0   \n",
       "Aggravated Assault Firearm                             1               0   \n",
       "Aggravated Assault No Firearm                          0               0   \n",
       "All Other Offenses                                     0               0   \n",
       "Arson                                                  0               0   \n",
       "\n",
       "Location_Block                 \"F\" TERMINAL @ 98 PIA WAY  \\\n",
       "Text_General_Code                                          \n",
       "0                                                      0   \n",
       "Aggravated Assault Firearm                             0   \n",
       "Aggravated Assault No Firearm                          0   \n",
       "All Other Offenses                                     0   \n",
       "Arson                                                  0   \n",
       "\n",
       "Location_Block                 (5700) GERMANTOWN AND CHELTEN AVENUES  \\\n",
       "Text_General_Code                                                      \n",
       "0                                                                  0   \n",
       "Aggravated Assault Firearm                                         0   \n",
       "Aggravated Assault No Firearm                                      0   \n",
       "All Other Offenses                                                 0   \n",
       "Arson                                                              0   \n",
       "\n",
       "Location_Block                 -2 CARGO CITY  -300 BUSTI PLACE - APT. 704  \\\n",
       "Text_General_Code                                                           \n",
       "0                                          0                            0   \n",
       "Aggravated Assault Firearm                 0                            0   \n",
       "Aggravated Assault No Firearm              0                            1   \n",
       "All Other Offenses                         0                            0   \n",
       "Arson                                      0                            0   \n",
       "\n",
       "Location_Block                 -WEST GATE 22  .5100 OGDEN ST  /C BAGGAGE  \\\n",
       "Text_General_Code                                                          \n",
       "0                                          0               0           0   \n",
       "Aggravated Assault Firearm                 0               0           0   \n",
       "Aggravated Assault No Firearm              0               0           0   \n",
       "All Other Offenses                         0               0           1   \n",
       "Arson                                      0               0           0   \n",
       "\n",
       "Location_Block                     ...        `42 S 8TH ST  `500 MARKET ST  \\\n",
       "Text_General_Code                  ...                                       \n",
       "0                                  ...                   0               0   \n",
       "Aggravated Assault Firearm         ...                   0               0   \n",
       "Aggravated Assault No Firearm      ...                   0               0   \n",
       "All Other Offenses                 ...                   1               1   \n",
       "Arson                              ...                   0               0   \n",
       "\n",
       "Location_Block                 `51 E GORGAS LN  `523 LIMEKILN PIKE  \\\n",
       "Text_General_Code                                                    \n",
       "0                                            0                   0   \n",
       "Aggravated Assault Firearm                   0                   0   \n",
       "Aggravated Assault No Firearm                0                   0   \n",
       "All Other Offenses                           0                   1   \n",
       "Arson                                        0                   0   \n",
       "\n",
       "Location_Block                 `531 N GRATZ ST  `603 N 6TH ST  `653 S 2ND ST  \\\n",
       "Text_General_Code                                                              \n",
       "0                                            0              0              0   \n",
       "Aggravated Assault Firearm                   0              0              0   \n",
       "Aggravated Assault No Firearm                0              0              0   \n",
       "All Other Offenses                           0              0              0   \n",
       "Arson                                        0              0              0   \n",
       "\n",
       "Location_Block                 `700 FRONTENAC ST  `700 SPRUCE ST  \\\n",
       "Text_General_Code                                                  \n",
       "0                                              0               0   \n",
       "Aggravated Assault Firearm                     0               0   \n",
       "Aggravated Assault No Firearm                  0               0   \n",
       "All Other Offenses                             0               0   \n",
       "Arson                                          0               0   \n",
       "\n",
       "Location_Block                 `732 SIGEL ST  \n",
       "Text_General_Code                             \n",
       "0                                          0  \n",
       "Aggravated Assault Firearm                 0  \n",
       "Aggravated Assault No Firearm              0  \n",
       "All Other Offenses                         0  \n",
       "Arson                                      0  \n",
       "\n",
       "[5 rows x 116656 columns]"
      ]
     },
     "execution_count": 28,
     "metadata": {},
     "output_type": "execute_result"
    }
   ],
   "source": [
    "crimes_matrix.head()"
   ]
  },
  {
   "cell_type": "markdown",
   "metadata": {},
   "source": [
    "### Hallar similaridades"
   ]
  },
  {
   "cell_type": "code",
   "execution_count": 29,
   "metadata": {},
   "outputs": [],
   "source": [
    "similarities = compute_pairwise_jaccard_similarities('Homicide').sort_values(ascending=False)"
   ]
  },
  {
   "cell_type": "markdown",
   "metadata": {},
   "source": [
    "### Graficar similaridades"
   ]
  },
  {
   "cell_type": "code",
   "execution_count": 30,
   "metadata": {
    "scrolled": true
   },
   "outputs": [
    {
     "data": {
      "image/png": "[encoded data removed]",
      "text/plain": [
       "<matplotlib.figure.Figure at 0x7f7beff1b1d0>"
      ]
     },
     "metadata": {},
     "output_type": "display_data"
    }
   ],
   "source": [
    "similarities_df = pd.DataFrame(data=similarities, columns=['Similarity'])\n",
    "similarities_df.index.name = \"Crime\"\n",
    "\n",
    "ax = similarities_df.plot(kind='barh', legend=False, width=.5, figsize=(10,10))\n",
    "sns.barplot(x=similarities_df.Similarity, y=similarities_df.index)\n",
    "plt.title(\"Homicide similarities\")\n",
    "plt.show()"
   ]
  }
 ],
 "metadata": {
  "kernelspec": {
   "display_name": "Python 3",
   "language": "python",
   "name": "python3"
  },
  "language_info": {
   "codemirror_mode": {
    "name": "ipython",
    "version": 3
   },
   "file_extension": ".py",
   "mimetype": "text/x-python",
   "name": "python",
   "nbconvert_exporter": "python",
   "pygments_lexer": "ipython3",
   "version": "3.5.2"
  }
 },
 "nbformat": 4,
 "nbformat_minor": 2
}
